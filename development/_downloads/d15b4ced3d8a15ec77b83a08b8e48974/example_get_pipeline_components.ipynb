{
  "cells": [
    {
      "cell_type": "code",
      "execution_count": null,
      "metadata": {
        "collapsed": false
      },
      "outputs": [],
      "source": [
        "%matplotlib inline"
      ]
    },
    {
      "cell_type": "markdown",
      "metadata": {},
      "source": [
        "\n# Query the Classification Pipeline\n\n\nThe following example shows how to query from a pipeline\nbuilt by auto-sklearn\n\n"
      ]
    },
    {
      "cell_type": "code",
      "execution_count": null,
      "metadata": {
        "collapsed": false
      },
      "outputs": [],
      "source": [
        "import sklearn.model_selection\nimport sklearn.datasets\nimport sklearn.metrics\n\nimport autosklearn.classification\n\n\ndef main():\n\n    X, y = sklearn.datasets.load_breast_cancer(return_X_y=True)\n    X_train, X_test, y_train, y_test = \\\n        sklearn.model_selection.train_test_split(X, y, random_state=1)\n\n    automl = autosklearn.classification.AutoSklearnClassifier(\n        time_left_for_this_task=120,\n        per_run_time_limit=30,\n        disable_evaluator_output=False,\n        resampling_strategy='holdout',\n        # We want autosklearn to use pca as preprocessor\n        include_preprocessors=['pca'],\n    )\n    automl.fit(X_train, y_train, dataset_name='breast_cancer')\n\n    predictions = automl.predict(X_test)\n    # Print statistics about the auto-sklearn run such as number of\n    # iterations, number of models failed with a time out.\n    print(automl.sprint_statistics())\n    print(\"Accuracy score:{}\".format(\n        sklearn.metrics.accuracy_score(y_test, predictions))\n    )\n\n    # Iterate over the components of the model and print\n    # The explained variance ratio per stage\n    for i, (weight, pipeline) in enumerate(automl.get_models_with_weights()):\n        for stage_name, component in pipeline.named_steps.items():\n            if 'preprocessor' in stage_name:\n                print(\n                    \"The {}th pipeline has a explained variance of {}\".format(\n                        i,\n                        # The component is an instance of AutoSklearnChoice.\n                        # Access the sklearn object via the choice attribute\n                        # We want the explained variance attributed of\n                        # each principal component\n                        component.choice.preprocessor.explained_variance_ratio_\n                    )\n                )\n\n\nif __name__ == '__main__':\n    main()"
      ]
    }
  ],
  "metadata": {
    "kernelspec": {
      "display_name": "Python 3",
      "language": "python",
      "name": "python3"
    },
    "language_info": {
      "codemirror_mode": {
        "name": "ipython",
        "version": 3
      },
      "file_extension": ".py",
      "mimetype": "text/x-python",
      "name": "python",
      "nbconvert_exporter": "python",
      "pygments_lexer": "ipython3",
      "version": "3.6.10"
    }
  },
  "nbformat": 4,
  "nbformat_minor": 0
}