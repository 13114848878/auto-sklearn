{
  "cells": [
    {
      "cell_type": "code",
      "execution_count": null,
      "metadata": {
        "collapsed": false
      },
      "outputs": [],
      "source": [
        "%matplotlib inline"
      ]
    },
    {
      "cell_type": "markdown",
      "metadata": {},
      "source": [
        "\n# Query the Classification Pipeline\n\n\nThe following example shows how to query from a pipeline\nbuilt by auto-sklearn. Auto-sklearn is a wrapper on top of\nthe sklearn models. This example illustrates how to interact\nwith the sklearn components directly, in this case a PCA preprocessor.\n"
      ]
    },
    {
      "cell_type": "code",
      "execution_count": null,
      "metadata": {
        "collapsed": false
      },
      "outputs": [],
      "source": [
        "import sklearn.model_selection\nimport sklearn.datasets\nimport sklearn.metrics\n\nimport autosklearn.classification"
      ]
    },
    {
      "cell_type": "markdown",
      "metadata": {},
      "source": [
        "Data Loading\n============\n\n"
      ]
    },
    {
      "cell_type": "code",
      "execution_count": null,
      "metadata": {
        "collapsed": false
      },
      "outputs": [],
      "source": [
        "X, y = sklearn.datasets.load_breast_cancer(return_X_y=True)\nX_train, X_test, y_train, y_test = \\\n    sklearn.model_selection.train_test_split(X, y, random_state=1)"
      ]
    },
    {
      "cell_type": "markdown",
      "metadata": {},
      "source": [
        "Build and fit the classifier\n============================\n\n"
      ]
    },
    {
      "cell_type": "code",
      "execution_count": null,
      "metadata": {
        "collapsed": false
      },
      "outputs": [],
      "source": [
        "automl = autosklearn.classification.AutoSklearnClassifier(\n    time_left_for_this_task=120,\n    per_run_time_limit=30,\n    disable_evaluator_output=False,\n    resampling_strategy='holdout',\n    # We want autosklearn to use pca as preprocessor\n    include_preprocessors=['pca'],\n)\nautoml.fit(X_train, y_train, dataset_name='breast_cancer')"
      ]
    },
    {
      "cell_type": "markdown",
      "metadata": {},
      "source": [
        "Report the model found by Auto-Sklearn\n======================================\n\n"
      ]
    },
    {
      "cell_type": "code",
      "execution_count": null,
      "metadata": {
        "collapsed": false
      },
      "outputs": [],
      "source": [
        "predictions = automl.predict(X_test)\n# Print statistics about the auto-sklearn run such as number of\n# iterations, number of models failed with a time out.\nprint(automl.sprint_statistics())\nprint(\"Accuracy score:{}\".format(\n    sklearn.metrics.accuracy_score(y_test, predictions))\n)"
      ]
    },
    {
      "cell_type": "markdown",
      "metadata": {},
      "source": [
        "Inspect the components of the best model\n========================================\n\n"
      ]
    },
    {
      "cell_type": "code",
      "execution_count": null,
      "metadata": {
        "collapsed": false
      },
      "outputs": [],
      "source": [
        "# Iterate over the components of the model and print\n# The explained variance ratio per stage\nfor i, (weight, pipeline) in enumerate(automl.get_models_with_weights()):\n    for stage_name, component in pipeline.named_steps.items():\n        if 'preprocessor' in stage_name:\n            print(\n                \"The {}th pipeline has a explained variance of {}\".format(\n                    i,\n                    # The component is an instance of AutoSklearnChoice.\n                    # Access the sklearn object via the choice attribute\n                    # We want the explained variance attributed of\n                    # each principal component\n                    component.choice.preprocessor.explained_variance_ratio_\n                )\n            )"
      ]
    }
  ],
  "metadata": {
    "kernelspec": {
      "display_name": "Python 3",
      "language": "python",
      "name": "python3"
    },
    "language_info": {
      "codemirror_mode": {
        "name": "ipython",
        "version": 3
      },
      "file_extension": ".py",
      "mimetype": "text/x-python",
      "name": "python",
      "nbconvert_exporter": "python",
      "pygments_lexer": "ipython3",
      "version": "3.7.7"
    }
  },
  "nbformat": 4,
  "nbformat_minor": 0
}