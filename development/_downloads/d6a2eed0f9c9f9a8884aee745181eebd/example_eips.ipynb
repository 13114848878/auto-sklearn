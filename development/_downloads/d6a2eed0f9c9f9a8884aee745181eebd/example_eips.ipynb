{
  "cells": [
    {
      "cell_type": "code",
      "execution_count": null,
      "metadata": {
        "collapsed": false
      },
      "outputs": [],
      "source": [
        "%matplotlib inline"
      ]
    },
    {
      "cell_type": "markdown",
      "metadata": {},
      "source": [
        "\n# EIPS\n\n\nThis example demonstrates the usage of a different acquisition function inside SMAC, namely\n`Expected Improvement per Second (EIPS) <https://papers.nips.cc/paper/4522-practical-bayesian-optimization-of-machine-learning-algorithms.html>`_.\n"
      ]
    },
    {
      "cell_type": "code",
      "execution_count": null,
      "metadata": {
        "collapsed": false
      },
      "outputs": [],
      "source": [
        "import sklearn.model_selection\nimport sklearn.datasets\nimport sklearn.metrics\n\nfrom smac.epm.uncorrelated_mo_rf_with_instances import \\\n    UncorrelatedMultiObjectiveRandomForestWithInstances\nfrom smac.epm.util_funcs import get_types\nfrom smac.facade.smac_ac_facade import SMAC4AC\nfrom smac.optimizer.acquisition import EIPS\nfrom smac.runhistory.runhistory2epm import RunHistory2EPM4EIPS\nfrom smac.scenario.scenario import Scenario\n\nimport autosklearn.classification"
      ]
    },
    {
      "cell_type": "markdown",
      "metadata": {},
      "source": [
        "EIPS callback\n=============\ncreate a callack to change the acquisition function inside SMAC\n\n"
      ]
    },
    {
      "cell_type": "code",
      "execution_count": null,
      "metadata": {
        "collapsed": false
      },
      "outputs": [],
      "source": [
        "def get_eips_object_callback(\n        scenario_dict,\n        seed,\n        ta,\n        ta_kwargs,\n        backend,\n        metalearning_configurations,\n):\n    scenario_dict['input_psmac_dirs'] = backend.get_smac_output_glob()\n    scenario = Scenario(scenario_dict)\n    types, bounds = get_types(scenario.cs,\n                              scenario.feature_array)\n    model_kwargs = dict(\n        target_names=['cost', 'runtime'],\n        types=types,\n        bounds=bounds,\n        instance_features=scenario.feature_array,\n        rf_kwargs={'seed': 1, },\n    )\n    return SMAC4AC(\n        scenario=scenario,\n        rng=seed,\n        tae_runner=ta,\n        tae_runner_kwargs=ta_kwargs,\n        runhistory2epm=RunHistory2EPM4EIPS,\n        runhistory2epm_kwargs={},\n        model=UncorrelatedMultiObjectiveRandomForestWithInstances,\n        model_kwargs=model_kwargs,\n        acquisition_function=EIPS,\n        run_id=seed,\n    )"
      ]
    },
    {
      "cell_type": "markdown",
      "metadata": {},
      "source": [
        "Data Loading\n============\n\n"
      ]
    },
    {
      "cell_type": "code",
      "execution_count": null,
      "metadata": {
        "collapsed": false
      },
      "outputs": [],
      "source": [
        "X, y = sklearn.datasets.load_breast_cancer(return_X_y=True)\nX_train, X_test, y_train, y_test = \\\n    sklearn.model_selection.train_test_split(X, y, random_state=1)"
      ]
    },
    {
      "cell_type": "markdown",
      "metadata": {},
      "source": [
        "Building and fitting the classifier\n===================================\n\n"
      ]
    },
    {
      "cell_type": "code",
      "execution_count": null,
      "metadata": {
        "collapsed": false
      },
      "outputs": [],
      "source": [
        "automl = autosklearn.classification.AutoSklearnClassifier(\n    time_left_for_this_task=120,\n    per_run_time_limit=30,\n    tmp_folder='/tmp/autosklearn_eips_example_tmp',\n    output_folder='/tmp/autosklearn_eips_example_out',\n    get_smac_object_callback=get_eips_object_callback,\n    initial_configurations_via_metalearning=0,\n)\nautoml.fit(X_train, y_train, dataset_name='breast_cancer')"
      ]
    },
    {
      "cell_type": "markdown",
      "metadata": {},
      "source": [
        "Print the final ensemble constructed by auto-sklearn\n====================================================\n\n"
      ]
    },
    {
      "cell_type": "code",
      "execution_count": null,
      "metadata": {
        "collapsed": false
      },
      "outputs": [],
      "source": [
        "# Print the final ensemble constructed by auto-sklearn via ROAR.\nprint(automl.show_models())"
      ]
    },
    {
      "cell_type": "markdown",
      "metadata": {},
      "source": [
        "Print statistics about the auto-sklearn run\n===========================================\n\n"
      ]
    },
    {
      "cell_type": "code",
      "execution_count": null,
      "metadata": {
        "collapsed": false
      },
      "outputs": [],
      "source": [
        "# Print statistics about the auto-sklearn run such as number of\n# iterations, number of models failed with a time out.\nprint(automl.sprint_statistics())"
      ]
    },
    {
      "cell_type": "markdown",
      "metadata": {},
      "source": [
        "Get the Score of the final ensemble\n===================================\n\n"
      ]
    },
    {
      "cell_type": "code",
      "execution_count": null,
      "metadata": {
        "collapsed": false
      },
      "outputs": [],
      "source": [
        "predictions = automl.predict(X_test)\nprint(\"Accuracy score\", sklearn.metrics.accuracy_score(y_test, predictions))"
      ]
    }
  ],
  "metadata": {
    "kernelspec": {
      "display_name": "Python 3",
      "language": "python",
      "name": "python3"
    },
    "language_info": {
      "codemirror_mode": {
        "name": "ipython",
        "version": 3
      },
      "file_extension": ".py",
      "mimetype": "text/x-python",
      "name": "python",
      "nbconvert_exporter": "python",
      "pygments_lexer": "ipython3",
      "version": "3.7.7"
    }
  },
  "nbformat": 4,
  "nbformat_minor": 0
}