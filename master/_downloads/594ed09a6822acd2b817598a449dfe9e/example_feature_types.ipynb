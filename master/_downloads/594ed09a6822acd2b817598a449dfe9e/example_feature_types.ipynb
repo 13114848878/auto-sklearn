{
  "cells": [
    {
      "cell_type": "code",
      "execution_count": null,
      "metadata": {
        "collapsed": false
      },
      "outputs": [],
      "source": [
        "%matplotlib inline"
      ]
    },
    {
      "cell_type": "markdown",
      "metadata": {},
      "source": [
        "\n# Feature Types\n\n\nIn *auto-sklearn* it is possible to specify the feature types of a dataset when calling the method\n:meth:`fit() <autosklearn.classification.AutoSklearnClassifier.fit>` by specifying the argument\n``feat_type``. The following example demonstrates a way it can be done.\n"
      ]
    },
    {
      "cell_type": "code",
      "execution_count": null,
      "metadata": {
        "collapsed": false
      },
      "outputs": [],
      "source": [
        "import sklearn.model_selection\nimport sklearn.datasets\nimport sklearn.metrics\nfrom sklearn import preprocessing\n\nimport autosklearn.classification"
      ]
    },
    {
      "cell_type": "markdown",
      "metadata": {},
      "source": [
        "Data Loading\n============\nLoad adult dataset from openml.org, see https://www.openml.org/t/2117\n\n"
      ]
    },
    {
      "cell_type": "code",
      "execution_count": null,
      "metadata": {
        "collapsed": false
      },
      "outputs": [],
      "source": [
        "X, y = sklearn.datasets.fetch_openml(data_id=179, return_X_y=True)\n\n# y needs to be encoded, as fetch openml doesn't download a float\ny = preprocessing.LabelEncoder().fit_transform(y)\n\nX_train, X_test, y_train, y_test = \\\n     sklearn.model_selection.train_test_split(X, y, random_state=1)\n\n# Create feature type list from openml.org indicator and run autosklearn\ndata = sklearn.datasets.fetch_openml(data_id=179, as_frame=True)\nfeat_type = ['Categorical' if x.name == 'category' else 'Numerical' for x in data['data'].dtypes]"
      ]
    },
    {
      "cell_type": "markdown",
      "metadata": {},
      "source": [
        "Build and fit a classifier\n==========================\n\n"
      ]
    },
    {
      "cell_type": "code",
      "execution_count": null,
      "metadata": {
        "collapsed": false
      },
      "outputs": [],
      "source": [
        "cls = autosklearn.classification.AutoSklearnClassifier(\n    time_left_for_this_task=120,\n    per_run_time_limit=30,\n)\ncls.fit(X_train, y_train, feat_type=feat_type)"
      ]
    },
    {
      "cell_type": "markdown",
      "metadata": {},
      "source": [
        "Get the Score of the final ensemble\n===================================\n\n"
      ]
    },
    {
      "cell_type": "code",
      "execution_count": null,
      "metadata": {
        "collapsed": false
      },
      "outputs": [],
      "source": [
        "predictions = cls.predict(X_test)\nprint(\"Accuracy score\", sklearn.metrics.accuracy_score(y_test, predictions))"
      ]
    }
  ],
  "metadata": {
    "kernelspec": {
      "display_name": "Python 3",
      "language": "python",
      "name": "python3"
    },
    "language_info": {
      "codemirror_mode": {
        "name": "ipython",
        "version": 3
      },
      "file_extension": ".py",
      "mimetype": "text/x-python",
      "name": "python",
      "nbconvert_exporter": "python",
      "pygments_lexer": "ipython3",
      "version": "3.7.7"
    }
  },
  "nbformat": 4,
  "nbformat_minor": 0
}